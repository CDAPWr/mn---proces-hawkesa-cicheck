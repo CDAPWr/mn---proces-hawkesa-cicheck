{
 "cells": [
  {
   "cell_type": "markdown",
   "id": "dbe94438-2765-4057-af76-a2c9e50ea4fd",
   "metadata": {},
   "source": [
    "# EDA\n",
    "\n",
    "Uzasadnienie wybioru zbioru danych znajduje się w notebook `hawkes`\n",
    "\n",
    "## Struktura\n",
    "* Zbiór danych składa się z dwóch plików:\n",
    "  * Plik `indeks.csv` datę publikacji oryginalnego tweeta jak również również indeksy retweetów zawartych w pliku `tweets.csv`.\n",
    "  * Plik `tweets.csv` zawiera relatywny czas publikacji tweeta jak również liczbę użytkowników obserwujących autora tweeta."
   ]
  },
  {
   "cell_type": "code",
   "execution_count": null,
   "id": "8c753187-d39e-4fd1-b2b9-75e9031bb4a3",
   "metadata": {},
   "outputs": [],
   "source": [
    "import pandas as pd\n",
    "from plotly import express as px"
   ]
  },
  {
   "cell_type": "code",
   "execution_count": null,
   "id": "f8d01a02-676a-4802-a9fd-45510b279bdb",
   "metadata": {},
   "outputs": [],
   "source": [
    "DATA_PATH = \"/home/cicheck/Downloads/retweets\""
   ]
  },
  {
   "cell_type": "code",
   "execution_count": null,
   "id": "2c0f6487-1597-486c-9a04-2f0d2697a273",
   "metadata": {},
   "outputs": [],
   "source": [
    "tweets_df = pd.read_csv(DATA_PATH + \"/tweets.csv\")\n",
    "tweets_df.head()"
   ]
  },
  {
   "cell_type": "code",
   "execution_count": null,
   "id": "db624fe1-f68a-4590-8b94-c9f0030c009b",
   "metadata": {},
   "outputs": [],
   "source": [
    "index_df = pd.read_csv(DATA_PATH + \"/index.csv\")\n",
    "index_df.head()"
   ]
  },
  {
   "cell_type": "code",
   "execution_count": null,
   "id": "7e6753c3-afd0-4252-b14e-4bb37542c6cd",
   "metadata": {},
   "outputs": [],
   "source": [
    "display(tweets_df.shape)"
   ]
  },
  {
   "cell_type": "code",
   "execution_count": null,
   "id": "89876413-7294-44f0-bf8c-0f8532b9349f",
   "metadata": {},
   "outputs": [],
   "source": [
    "display(index_df.shape)"
   ]
  },
  {
   "cell_type": "code",
   "execution_count": null,
   "id": "4dc72696-b257-457c-b8ee-b0c48108ba75",
   "metadata": {},
   "outputs": [],
   "source": [
    "display(tweets_df.isnull().sum() / tweets_df.shape[0] * 100)\n",
    "display(index_df.isnull().sum() / index_df.shape[0] * 100)"
   ]
  },
  {
   "cell_type": "markdown",
   "id": "0d1f99e5-80a0-4efd-be0b-33da063a40a6",
   "metadata": {},
   "source": [
    "Każda z interesujących nas wartości nie zawiera wartości typu null"
   ]
  },
  {
   "cell_type": "code",
   "execution_count": null,
   "id": "5aa3dd47-7f4e-44c3-a790-f70794083bd4",
   "metadata": {},
   "outputs": [],
   "source": [
    "px.histogram(\n",
    "    tweets_df,\n",
    "    x=\"number_of_followers\",\n",
    "    log_y=True,\n",
    "    nbins=100,\n",
    "    title=\"Number of followers per user\",\n",
    ")"
   ]
  },
  {
   "cell_type": "code",
   "execution_count": null,
   "id": "8fda16c8-d825-4bce-9372-6eed07f60698",
   "metadata": {},
   "outputs": [],
   "source": [
    "px.violin(\n",
    "    tweets_df.sample(10000),\n",
    "    y=\"number_of_followers\",\n",
    "    title=\"Distribution of users number of followers\",\n",
    ")"
   ]
  },
  {
   "cell_type": "markdown",
   "id": "ddd68bb3-d59d-466c-9a46-badb3fb636f8",
   "metadata": {},
   "source": [
    "Możemy zaobserwować że zebrane tweety pochodzą z dość popularnych kont."
   ]
  },
  {
   "cell_type": "code",
   "execution_count": null,
   "id": "ec3aaa39-9b28-4938-8890-f9d746311756",
   "metadata": {},
   "outputs": [],
   "source": [
    "n_retweets_counted = ((index_df.end_ind - index_df.start_ind) + 1).value_counts()"
   ]
  },
  {
   "cell_type": "code",
   "execution_count": null,
   "id": "1df195b1-daeb-4cc9-ac51-1531a9c58d0c",
   "metadata": {},
   "outputs": [],
   "source": [
    "n_retweets_counted = n_retweets_counted.sort_index()"
   ]
  },
  {
   "cell_type": "code",
   "execution_count": null,
   "id": "08cd97ce-e15e-420c-a879-99048ae99d82",
   "metadata": {},
   "outputs": [],
   "source": [
    "px.bar(\n",
    "    x=n_retweets_counted.index,\n",
    "    y=n_retweets_counted,\n",
    "    title=\"Number of posts with particular number of retweets\",\n",
    "    labels={\"y\": \"Number of posts\", \"x\": \"Number of retweets\",}\n",
    ")"
   ]
  },
  {
   "cell_type": "code",
   "execution_count": null,
   "id": "a3a2aa89-cfce-48b2-83dd-b510038caaf7",
   "metadata": {},
   "outputs": [],
   "source": [
    "px.violin(\n",
    "    y=((index_df.end_ind - index_df.start_ind) + 1),\n",
    "    title=\"Distribution of number of retweets per post\",\n",
    "    labels={\"y\": \"Number of retweets\"}\n",
    ")"
   ]
  },
  {
   "cell_type": "code",
   "execution_count": null,
   "id": "d8ed808e-dd49-4781-90dc-1d170c51775d",
   "metadata": {},
   "outputs": [],
   "source": []
  }
 ],
 "metadata": {
  "kernelspec": {
   "display_name": "Python 3 (ipykernel)",
   "language": "python",
   "name": "python3"
  },
  "language_info": {
   "codemirror_mode": {
    "name": "ipython",
    "version": 3
   },
   "file_extension": ".py",
   "mimetype": "text/x-python",
   "name": "python",
   "nbconvert_exporter": "python",
   "pygments_lexer": "ipython3",
   "version": "3.10.2"
  }
 },
 "nbformat": 4,
 "nbformat_minor": 5
}
